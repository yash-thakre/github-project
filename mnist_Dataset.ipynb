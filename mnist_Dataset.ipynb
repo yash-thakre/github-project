{
 "cells": [
  {
   "cell_type": "code",
   "execution_count": 1,
   "id": "d2f04969",
   "metadata": {},
   "outputs": [
    {
     "name": "stdout",
     "output_type": "stream",
     "text": [
      "WARNING:tensorflow:From C:\\Users\\ASUS\\anaconda3\\Lib\\site-packages\\keras\\src\\losses.py:2976: The name tf.losses.sparse_softmax_cross_entropy is deprecated. Please use tf.compat.v1.losses.sparse_softmax_cross_entropy instead.\n",
      "\n"
     ]
    }
   ],
   "source": [
    "import tensorflow as tf"
   ]
  },
  {
   "cell_type": "code",
   "execution_count": 13,
   "id": "b5caee12",
   "metadata": {},
   "outputs": [],
   "source": [
    "from tensorflow.keras.datasets import mnist\n",
    "from tensorflow.keras import layers, models"
   ]
  },
  {
   "cell_type": "code",
   "execution_count": 3,
   "id": "e734e542",
   "metadata": {},
   "outputs": [],
   "source": [
    "import matplotlib.pyplot as plt"
   ]
  },
  {
   "cell_type": "code",
   "execution_count": 4,
   "id": "6802dc77",
   "metadata": {},
   "outputs": [],
   "source": [
    "(train_images, train_labels),(test_images, test_labels) = mnist.load_data()"
   ]
  },
  {
   "cell_type": "code",
   "execution_count": 5,
   "id": "c7523a97",
   "metadata": {},
   "outputs": [
    {
     "data": {
      "text/plain": [
       "(60000, 28, 28)"
      ]
     },
     "execution_count": 5,
     "metadata": {},
     "output_type": "execute_result"
    }
   ],
   "source": [
    "train_images.shape"
   ]
  },
  {
   "cell_type": "code",
   "execution_count": 6,
   "id": "0db1b449",
   "metadata": {},
   "outputs": [
    {
     "data": {
      "text/plain": [
       "(10000, 28, 28)"
      ]
     },
     "execution_count": 6,
     "metadata": {},
     "output_type": "execute_result"
    }
   ],
   "source": [
    "test_images.shape"
   ]
  },
  {
   "cell_type": "code",
   "execution_count": 8,
   "id": "20868ca6",
   "metadata": {},
   "outputs": [
    {
     "data": {
      "image/png": "[encoded data removed]",
      "text/plain": [
       "<Figure size 640x480 with 1 Axes>"
      ]
     },
     "metadata": {},
     "output_type": "display_data"
    }
   ],
   "source": [
    "plt.imshow(train_images[0])\n",
    "plt.show()"
   ]
  },
  {
   "cell_type": "code",
   "execution_count": 9,
   "id": "646988b0",
   "metadata": {},
   "outputs": [
    {
     "data": {
      "image/png": "[encoded data removed]",
      "text/plain": [
       "<Figure size 640x480 with 1 Axes>"
      ]
     },
     "metadata": {},
     "output_type": "display_data"
    }
   ],
   "source": [
    "plt.imshow(train_images[654])\n",
    "plt.show()"
   ]
  },
  {
   "cell_type": "code",
   "execution_count": 11,
   "id": "d8ab6fd0",
   "metadata": {},
   "outputs": [],
   "source": [
    "train_images = train_images.reshape((60000,28,28,1)).astype(\"float32\")/255\n",
    "test_images = test_images.reshape((10000,28,28,1)).astype(\"float32\")/255"
   ]
  },
  {
   "cell_type": "code",
   "execution_count": 14,
   "id": "9469dce2",
   "metadata": {},
   "outputs": [
    {
     "name": "stdout",
     "output_type": "stream",
     "text": [
      "WARNING:tensorflow:From C:\\Users\\ASUS\\anaconda3\\Lib\\site-packages\\keras\\src\\backend.py:873: The name tf.get_default_graph is deprecated. Please use tf.compat.v1.get_default_graph instead.\n",
      "\n"
     ]
    }
   ],
   "source": [
    "model = models.Sequential()"
   ]
  },
  {
   "cell_type": "code",
   "execution_count": 15,
   "id": "0527157a",
   "metadata": {},
   "outputs": [],
   "source": [
    "model.add(layers.Flatten(input_shape=(28,28,1)))\n",
    "model.add(layers.Dense(256, activation=\"relu\"))\n",
    "model.add(layers.Dense(10, activation= \"softmax\"))"
   ]
  },
  {
   "cell_type": "code",
   "execution_count": 20,
   "id": "0a653e3b",
   "metadata": {},
   "outputs": [],
   "source": [
    "model.compile(optimizer=\"adam\", loss=\"sparse_categorical_crossentropy\",metrics = \"accuracy\" )"
   ]
  },
  {
   "cell_type": "code",
   "execution_count": 21,
   "id": "c45ae53f",
   "metadata": {},
   "outputs": [
    {
     "name": "stdout",
     "output_type": "stream",
     "text": [
      "Epoch 1/20\n",
      "WARNING:tensorflow:From C:\\Users\\ASUS\\anaconda3\\Lib\\site-packages\\keras\\src\\utils\\tf_utils.py:492: The name tf.ragged.RaggedTensorValue is deprecated. Please use tf.compat.v1.ragged.RaggedTensorValue instead.\n",
      "\n",
      "WARNING:tensorflow:From C:\\Users\\ASUS\\anaconda3\\Lib\\site-packages\\keras\\src\\engine\\base_layer_utils.py:384: The name tf.executing_eagerly_outside_functions is deprecated. Please use tf.compat.v1.executing_eagerly_outside_functions instead.\n",
      "\n",
      "750/750 [==============================] - 2s 2ms/step - loss: 0.2835 - accuracy: 0.9188 - val_loss: 0.1489 - val_accuracy: 0.9579\n",
      "Epoch 2/20\n",
      "750/750 [==============================] - 1s 2ms/step - loss: 0.1214 - accuracy: 0.9649 - val_loss: 0.1155 - val_accuracy: 0.9653\n",
      "Epoch 3/20\n",
      "750/750 [==============================] - 1s 2ms/step - loss: 0.0809 - accuracy: 0.9758 - val_loss: 0.1040 - val_accuracy: 0.9698\n",
      "Epoch 4/20\n",
      "750/750 [==============================] - 1s 2ms/step - loss: 0.0585 - accuracy: 0.9828 - val_loss: 0.0878 - val_accuracy: 0.9743\n",
      "Epoch 5/20\n",
      "750/750 [==============================] - 1s 2ms/step - loss: 0.0444 - accuracy: 0.9874 - val_loss: 0.0876 - val_accuracy: 0.9712\n",
      "Epoch 6/20\n",
      "750/750 [==============================] - 1s 2ms/step - loss: 0.0327 - accuracy: 0.9909 - val_loss: 0.0841 - val_accuracy: 0.9753\n",
      "Epoch 7/20\n",
      "750/750 [==============================] - 1s 2ms/step - loss: 0.0250 - accuracy: 0.9928 - val_loss: 0.0789 - val_accuracy: 0.9766\n",
      "Epoch 8/20\n",
      "750/750 [==============================] - 1s 2ms/step - loss: 0.0198 - accuracy: 0.9947 - val_loss: 0.0807 - val_accuracy: 0.9769\n",
      "Epoch 9/20\n",
      "750/750 [==============================] - 1s 2ms/step - loss: 0.0160 - accuracy: 0.9955 - val_loss: 0.0846 - val_accuracy: 0.9762\n",
      "Epoch 10/20\n",
      "750/750 [==============================] - 1s 2ms/step - loss: 0.0121 - accuracy: 0.9972 - val_loss: 0.0869 - val_accuracy: 0.9767\n",
      "Epoch 11/20\n",
      "750/750 [==============================] - 1s 2ms/step - loss: 0.0108 - accuracy: 0.9970 - val_loss: 0.0933 - val_accuracy: 0.9767\n",
      "Epoch 12/20\n",
      "750/750 [==============================] - 1s 2ms/step - loss: 0.0091 - accuracy: 0.9976 - val_loss: 0.0922 - val_accuracy: 0.9778\n",
      "Epoch 13/20\n",
      "750/750 [==============================] - 1s 2ms/step - loss: 0.0067 - accuracy: 0.9982 - val_loss: 0.1002 - val_accuracy: 0.9754\n",
      "Epoch 14/20\n",
      "750/750 [==============================] - 1s 2ms/step - loss: 0.0094 - accuracy: 0.9972 - val_loss: 0.0919 - val_accuracy: 0.9783\n",
      "Epoch 15/20\n",
      "750/750 [==============================] - 1s 2ms/step - loss: 0.0039 - accuracy: 0.9992 - val_loss: 0.0959 - val_accuracy: 0.9793\n",
      "Epoch 16/20\n",
      "750/750 [==============================] - 1s 2ms/step - loss: 0.0045 - accuracy: 0.9989 - val_loss: 0.0949 - val_accuracy: 0.9794\n",
      "Epoch 17/20\n",
      "750/750 [==============================] - 1s 2ms/step - loss: 0.0046 - accuracy: 0.9989 - val_loss: 0.0988 - val_accuracy: 0.9797\n",
      "Epoch 18/20\n",
      "750/750 [==============================] - 1s 2ms/step - loss: 0.0066 - accuracy: 0.9982 - val_loss: 0.0982 - val_accuracy: 0.9797\n",
      "Epoch 19/20\n",
      "750/750 [==============================] - 1s 2ms/step - loss: 0.0014 - accuracy: 0.9999 - val_loss: 0.0913 - val_accuracy: 0.9816\n",
      "Epoch 20/20\n",
      "750/750 [==============================] - 1s 2ms/step - loss: 5.9694e-04 - accuracy: 1.0000 - val_loss: 0.0932 - val_accuracy: 0.9826\n"
     ]
    },
    {
     "data": {
      "text/plain": [
       "<keras.src.callbacks.History at 0x1c1e3206150>"
      ]
     },
     "execution_count": 21,
     "metadata": {},
     "output_type": "execute_result"
    }
   ],
   "source": [
    "model.fit(train_images,train_labels, epochs=20,batch_size= 64,validation_split=0.2)"
   ]
  },
  {
   "cell_type": "code",
   "execution_count": 22,
   "id": "5c7686a7",
   "metadata": {},
   "outputs": [
    {
     "name": "stdout",
     "output_type": "stream",
     "text": [
      "313/313 [==============================] - 0s 889us/step - loss: 0.0790 - accuracy: 0.9821\n"
     ]
    }
   ],
   "source": [
    "test_loss,test_accuracy = model.evaluate(test_images,test_labels)"
   ]
  },
  {
   "cell_type": "code",
   "execution_count": null,
   "id": "f8f86d85",
   "metadata": {},
   "outputs": [],
   "source": []
  }
 ],
 "metadata": {
  "kernelspec": {
   "display_name": "Python 3 (ipykernel)",
   "language": "python",
   "name": "python3"
  },
  "language_info": {
   "codemirror_mode": {
    "name": "ipython",
    "version": 3
   },
   "file_extension": ".py",
   "mimetype": "text/x-python",
   "name": "python",
   "nbconvert_exporter": "python",
   "pygments_lexer": "ipython3",
   "version": "3.11.3"
  }
 },
 "nbformat": 4,
 "nbformat_minor": 5
}
